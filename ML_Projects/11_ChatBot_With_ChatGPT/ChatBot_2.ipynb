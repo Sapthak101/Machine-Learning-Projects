{
 "cells": [
  {
   "cell_type": "code",
   "execution_count": null,
   "metadata": {},
   "outputs": [],
   "source": [
    "import os\n",
    "\n",
    "#Storing the API in the environment dictionary\n",
    "os.environ[\"OPENAI_API_KEY\"]=\"Paste Your API Key Here\"\n",
    "\n",
    "#Printing the API Key\n",
    "#print(os.environ.get(\"OPENAI_API_KEY\"))\n",
    "\n",
    "#pip install dotenv and then importing load_dotenv to extract the API Key from the root (Project Folder)\n",
    "from dotenv import load_dotenv\n",
    "\n",
    "load_dotenv()\n",
    "\n",
    "#Storing the API key\n",
    "api_key=os.getenv(\"OPENAI_API_KEY\")\n",
    "\n",
    "#print(api_key)\n",
    "\n",
    "#pip install openai\n",
    "import openai\n",
    "\n",
    "#Giving OpenAI the API for authorizing the API Access\n",
    "openai.api_key=os.getenv(\"OPENAI_API_KEY\")\n",
    "#print(openai.api_key)\n",
    "#openai.api_key='Paste Your API Key Here'\n",
    "\n",
    "#Simple ChatBot Code \n",
    "while True:\n",
    "    msg=input(\"Hi, there, how can I help you: \")\n",
    "    if msg=='quit':\n",
    "        break\n",
    "    completion=openai.ChatCompletion.create(model=\"gpt-3.5-turbo\", messages=[{\"role\": 'user', 'content':msg.lower()}])\n",
    "    print(completion.choices[0].message['content'])\n",
    "\n",
    "print(\"Thank for untilzing ChatGPT\")\n"
   ]
  }
 ],
 "metadata": {
  "kernelspec": {
   "display_name": "Python 3",
   "language": "python",
   "name": "python3"
  },
  "language_info": {
   "codemirror_mode": {
    "name": "ipython",
    "version": 3
   },
   "file_extension": ".py",
   "mimetype": "text/x-python",
   "name": "python",
   "nbconvert_exporter": "python",
   "pygments_lexer": "ipython3",
   "version": "3.11.2"
  },
  "orig_nbformat": 4
 },
 "nbformat": 4,
 "nbformat_minor": 2
}
